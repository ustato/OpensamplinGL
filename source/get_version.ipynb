{
 "cells": [
  {
   "cell_type": "code",
   "execution_count": null,
   "metadata": {},
   "outputs": [],
   "source": [
    "# OpenGLとGLFWをインポートします\n",
    "from OpenGL.GL import *\n",
    "import glfw\n",
    "\n",
    "\n",
    "def main():\n",
    "    # GLFW初期化\n",
    "    if not glfw.init():\n",
    "        return\n",
    "\n",
    "    # ウィンドウを作成\n",
    "    window = glfw.create_window(640, 480, 'Hello World', None, None)\n",
    "    if not window:\n",
    "        glfw.terminate()\n",
    "        print('Failed to create window')\n",
    "        return\n",
    "\n",
    "    # コンテキストを作成します\n",
    "    glfw.make_context_current(window)\n",
    "\n",
    "    # OpenGLのバージョン等を表示します\n",
    "    print('Vendor :', glGetString(GL_VENDOR))\n",
    "    print('GPU :', glGetString(GL_RENDERER))\n",
    "    print('OpenGL version :', glGetString(GL_VERSION))\n",
    "\n",
    "    # ウィンドウを破棄してGLFWを終了します\n",
    "    glfw.destroy_window(window)\n",
    "    glfw.terminate()\n",
    "\n",
    "\n",
    "# Pythonのメイン関数はこんな感じで書きます\n",
    "if __name__ == \"__main__\":\n",
    "    main()"
   ]
  }
 ],
 "metadata": {
  "jupytext": {
   "encoding": "# -*- coding: utf-8 -*-",
   "text_representation": {
    "extension": ".py",
    "format_name": "light",
    "format_version": "1.4",
    "jupytext_version": "1.2.4"
   }
  },
  "kernelspec": {
   "display_name": "Python 3",
   "language": "python",
   "name": "python3"
  },
  "language_info": {
   "codemirror_mode": {
    "name": "ipython",
    "version": 3
   },
   "file_extension": ".py",
   "mimetype": "text/x-python",
   "name": "python",
   "nbconvert_exporter": "python",
   "pygments_lexer": "ipython3",
   "version": "3.7.0"
  }
 },
 "nbformat": 4,
 "nbformat_minor": 2
}
